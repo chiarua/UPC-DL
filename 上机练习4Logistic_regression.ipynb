{
 "cells": [
  {
   "cell_type": "markdown",
   "id": "7ae94c1b",
   "metadata": {},
   "source": [
    "# 逻辑斯蒂回归"
   ]
  },
  {
   "cell_type": "markdown",
   "id": "96c0aa1c",
   "metadata": {},
   "source": [
    "## 使用MNIST数据集中的0，1数据完成logistic regression 任务"
   ]
  },
  {
   "cell_type": "markdown",
   "id": "b836e70a",
   "metadata": {},
   "source": [
    "### 导入相关包"
   ]
  },
  {
   "cell_type": "code",
   "execution_count": 32,
   "id": "fc3b9528",
   "metadata": {},
   "outputs": [],
   "source": [
    "import torch\n",
    "import torchvision as tv\n",
    "import torchvision.transforms as transforms\n",
    "import torch.nn as nn\n",
    "import torch.optim as optim"
   ]
  },
  {
   "cell_type": "code",
   "execution_count": 33,
   "id": "afec8601",
   "metadata": {},
   "outputs": [],
   "source": [
    "# 定义是否使用GPU\n",
    "device = torch.device(\"cuda\" if torch.cuda.is_available() else \"cpu\")\n",
    "# 定义数据预处理方式\n",
    "transform = transforms.ToTensor()"
   ]
  },
  {
   "cell_type": "markdown",
   "id": "fc944971",
   "metadata": {},
   "source": [
    "利用框架自带数据集读取方式读取 MNIST数据集"
   ]
  },
  {
   "cell_type": "code",
   "execution_count": 34,
   "id": "262c53db",
   "metadata": {},
   "outputs": [],
   "source": [
    "# download 第一次可设置为Ture\n",
    "trainset = tv.datasets.MNIST(\n",
    "    root='./data/',\n",
    "    train=True,\n",
    "    download=True,\n",
    "    transform=transform)"
   ]
  },
  {
   "cell_type": "markdown",
   "id": "6e361f6a",
   "metadata": {},
   "source": [
    "从训练集中取出0、1标签的数据构成此次任务的训练集(train_input,train_label) "
   ]
  },
  {
   "cell_type": "code",
   "execution_count": 35,
   "id": "77ab1f2e",
   "metadata": {},
   "outputs": [],
   "source": [
    "train_input = []\n",
    "train_label = []\n",
    "for data, label in trainset:\n",
    "    if label == 0 or label == 1:\n",
    "        train_input.append(data)\n",
    "        train_label.append(label)"
   ]
  },
  {
   "cell_type": "code",
   "execution_count": 36,
   "outputs": [
    {
     "name": "stdout",
     "output_type": "stream",
     "text": [
      "12665 1 28\n"
     ]
    }
   ],
   "source": [
    "print(len(train_input), len(train_input[0]), len(train_input[0][0][0]))"
   ],
   "metadata": {
    "collapsed": false
   }
  },
  {
   "cell_type": "markdown",
   "id": "4dddaa22",
   "metadata": {},
   "source": [
    "从测试集中取出0、1标签的数据构成此次任务的测试集(test_input,test_lable)"
   ]
  },
  {
   "cell_type": "code",
   "execution_count": 37,
   "id": "c457db72",
   "metadata": {},
   "outputs": [],
   "source": [
    "# 定义测试数据集\n",
    "testset = tv.datasets.MNIST(\n",
    "    root='./data/',\n",
    "    train=False,\n",
    "    download=True,\n",
    "    transform=transform)\n",
    "\n",
    "test_input = []\n",
    "test_label = []\n",
    "for data, label in testset:\n",
    "    if label == 0 or label == 1:\n",
    "        test_input.append(data)\n",
    "        test_label.append(label)\n",
    "# test_input = torch.stack(test_input).to(device)\n",
    "# test_label = torch.Tensor(test_label).int()"
   ]
  },
  {
   "cell_type": "markdown",
   "id": "9ec74a08",
   "metadata": {},
   "source": [
    " 创建自己的数据集，需要补充完成"
   ]
  },
  {
   "cell_type": "code",
   "execution_count": 38,
   "id": "6e68c603",
   "metadata": {},
   "outputs": [],
   "source": [
    "class TensorDataset(torch.utils.data.Dataset):\n",
    "    \"\"\"\n",
    "    创建自己的dataset类 继承torch.utils.data.Dataset。\n",
    "    Dataset wrapping data and target tensors.\n",
    "    Each sample will be retrieved by indexing both tensors along the first\n",
    "    dimension.\n",
    "    Arguments:\n",
    "        data_tensor (Tensor): contains sample data.\n",
    "        target_tensor (Tensor): contains sample targets (labels).\n",
    "    \"\"\"\n",
    "    def __init__(self, data_tensor, target_tensor):\n",
    "        self.data_tensor = data_tensor\n",
    "        self.target_tensor = target_tensor\n",
    "\n",
    "    # 这个方法是必须要有的，用于按照索引读取每个元素的具体内容\n",
    "    def __getitem__(self, index):\n",
    "        # #return很关键，return回哪些内容，那么我们在训练时循环读取每个batch时，\n",
    "        # 就能获得哪些内容\n",
    "        return self.data_tensor[index],self.target_tensor[index]\n",
    "\n",
    "\n",
    "    ##这个函数也必须要写，它返回的是数据集的长度\n",
    "    def __len__(self):\n",
    "        return len(self.data_tensor)"
   ]
  },
  {
   "cell_type": "markdown",
   "id": "3414fb91",
   "metadata": {},
   "source": [
    "定义训练批处理数据"
   ]
  },
  {
   "cell_type": "code",
   "execution_count": 39,
   "id": "7ff14e93",
   "metadata": {},
   "outputs": [],
   "source": [
    "# batch_size 根据自己计算资源设计，shuffle设置为True，查询设置的原因。\n",
    "#train_dataset = TensorDataset(train_input, train_label),\n",
    "trainloader = torch.utils.data.DataLoader(\n",
    "    TensorDataset(train_input, train_label),\n",
    "    batch_size=128,\n",
    "    shuffle=True,\n",
    "    )\n",
    "test_dataset = TensorDataset(testset.data, testset.targets)\n",
    "testloader = torch.utils.data.DataLoader(\n",
    "    test_dataset,\n",
    "    batch_size=128,\n",
    "    shuffle=False  # 在测试时不需要 shuffle\n",
    ")"
   ]
  },
  {
   "cell_type": "markdown",
   "id": "bd443dde",
   "metadata": {},
   "source": [
    "利用pytorch框架的nn.Module 模块完成logistic regression 模型的设计"
   ]
  },
  {
   "cell_type": "code",
   "execution_count": 40,
   "id": "0681bb7e",
   "metadata": {},
   "outputs": [],
   "source": [
    "class logistic_regression(nn.Module):\n",
    "    '''\n",
    "        逻辑回归模型\n",
    "    '''\n",
    "    def __init__(self):\n",
    "        super(logistic_regression, self).__init__()\n",
    "        self.linear = nn.Linear(784, 1)\n",
    "\n",
    "    def forward(self, x):\n",
    "        x = x.view(x.shape[0], -1)  # 将图像展平为一维向量\n",
    "        out = self.linear(x)\n",
    "        return out"
   ]
  },
  {
   "cell_type": "code",
   "execution_count": 41,
   "id": "1fd85b68",
   "metadata": {},
   "outputs": [],
   "source": [
    "model = logistic_regression()"
   ]
  },
  {
   "cell_type": "markdown",
   "id": "475a0918",
   "metadata": {},
   "source": [
    "设置损失函数及优化器。提示：使用binary cross entropy 损失函数，优化器可设置SGD、Adam等"
   ]
  },
  {
   "cell_type": "code",
   "execution_count": 42,
   "id": "53f2cb66",
   "metadata": {},
   "outputs": [],
   "source": [
    "criterion = nn.BCEWithLogitsLoss()\n",
    "optimizer = optim.SGD(model.parameters(), lr=0.01)"
   ]
  },
  {
   "cell_type": "code",
   "execution_count": 43,
   "outputs": [],
   "source": [
    "test_input = torch.stack(test_input)\n",
    "test_label = torch.Tensor(test_label).int()"
   ],
   "metadata": {
    "collapsed": false
   }
  },
  {
   "cell_type": "markdown",
   "id": "f7a43ef0",
   "metadata": {},
   "source": [
    "训练"
   ]
  },
  {
   "cell_type": "code",
   "execution_count": 44,
   "id": "f3544019",
   "metadata": {},
   "outputs": [
    {
     "name": "stdout",
     "output_type": "stream",
     "text": [
      "第1轮 loss: 0.2653926795721054\n",
      "识别准确率为：99.81087493896484%\n",
      "第2轮 loss: 0.09179407887160779\n",
      "识别准确率为：99.90543365478516%\n",
      "第3轮 loss: 0.06078353103250265\n",
      "识别准确率为：99.90543365478516%\n",
      "第4轮 loss: 0.047019064985215665\n",
      "识别准确率为：99.90543365478516%\n",
      "第5轮 loss: 0.03905912417918444\n",
      "识别准确率为：99.90543365478516%\n"
     ]
    }
   ],
   "source": [
    "\n",
    "\n",
    "for epoch in range(5):\n",
    "    sum_loss = 0.0\n",
    "    # 数据读取\n",
    "    for i, data in enumerate(trainloader):\n",
    "        inputs, labels = data\n",
    "        inputs, labels = inputs, labels.view(-1, 1)\n",
    "        # 梯度清零\n",
    "        optimizer.zero_grad()\n",
    "        # 模型输出\n",
    "        pred = model(inputs)\n",
    "        # 定义loss\n",
    "        loss = criterion(pred, labels.float())\n",
    "        # loss反向传播\n",
    "        loss.backward()\n",
    "        # 更新参数\n",
    "        optimizer.step()\n",
    "        \n",
    "        sum_loss += loss.item()\n",
    "\n",
    "    print('第{0}轮 loss: {1}'.format(epoch+1, sum_loss / 100))\n",
    "\n",
    "#  输出测试集准确率: 没有对测试集进行DataLoader，如果自己电脑配置不够，\n",
    "#尝试建立testloader 然后按照批量计算\n",
    "    with torch.no_grad():\n",
    "        test_outputs = model(test_input)\n",
    "\n",
    "        test_predicted = torch.squeeze(test_outputs>=0.5).int()\n",
    "        \n",
    "        accuracy = (test_predicted.cpu() == test_label.int()).sum().float() / test_label.size()[0]\n",
    "        print('识别准确率为：{}%'.format(accuracy*100))"
   ]
  },
  {
   "cell_type": "markdown",
   "id": "00626cc1",
   "metadata": {},
   "source": [
    "### 附加\n",
    "#### 尝试将模型输出变为[p(y=0|x),p(y=1|x)] 的向量，观察参数（和正常logistic模型）的变化。\n",
    "#### 提示：损失函数由BCE变为CE"
   ]
  },
  {
   "cell_type": "code",
   "execution_count": 45,
   "id": "d41d7de1",
   "metadata": {},
   "outputs": [
    {
     "name": "stdout",
     "output_type": "stream",
     "text": [
      "第1轮 loss: 0.0\n",
      "识别准确率为：99.90543365478516%\n",
      "第2轮 loss: 0.0\n",
      "识别准确率为：99.90543365478516%\n",
      "第3轮 loss: 0.0\n",
      "识别准确率为：99.90543365478516%\n",
      "第4轮 loss: 0.0\n",
      "识别准确率为：99.90543365478516%\n",
      "第5轮 loss: 0.0\n",
      "识别准确率为：99.90543365478516%\n"
     ]
    }
   ],
   "source": [
    "class logistic_regression(nn.Module):\n",
    "    '''\n",
    "        逻辑回归模型\n",
    "    '''\n",
    "    def __init__(self):\n",
    "        super(logistic_regression, self).__init__()\n",
    "        # 添加logistic regression层\n",
    "        # 注意：如果你的输入数据的维度不是1，你需要修改这里的输入维度\n",
    "        self.linear = torch.nn.Linear(784, 2)  # 输出两个值\n",
    "\n",
    "    def forward(self, x):\n",
    "        # 计算图（1）数据维度拉长\n",
    "        x = x.view(x.shape[0], -1)\n",
    "        # （2）logistic regression层传播\n",
    "        y_pred = self.linear(x)\n",
    "        # 使用softmax函数\n",
    "        y_pred = torch.nn.functional.softmax(y_pred, dim=1)\n",
    "        # （3）return输出（注意维度）\n",
    "        return y_pred\n",
    "# 设置损失函数及优化器\n",
    "criterion = nn.CrossEntropyLoss()  # 使用交叉熵损失\n",
    "optimizer = torch.optim.SGD(model.parameters(), lr=0.01)\n",
    "for epoch in range(5):\n",
    "    sum_loss = 0.0\n",
    "    # 数据读取\n",
    "    for i, data in enumerate(trainloader):\n",
    "        inputs, labels = data\n",
    "        inputs, labels = inputs, labels.view(-1, 1)  # 调整标签的维度\n",
    "        # 梯度清零\n",
    "        optimizer.zero_grad()\n",
    "\n",
    "        # 模型输出\n",
    "        outputs = model(inputs)\n",
    "        # 定义loss\n",
    "        loss = criterion(outputs, labels.float())\n",
    "        # loss反向传播\n",
    "        loss.backward()\n",
    "        # 更新参数\n",
    "        optimizer.step()\n",
    "\n",
    "        sum_loss += loss.item()\n",
    "\n",
    "    print('第{0}轮 loss: {1}'.format(epoch+1, sum_loss / 100))\n",
    "\n",
    "#  输出测试集准确率: 没有对测试集进行DataLoader，如果自己电脑配置不够，\n",
    "#尝试建立testloader 然后按照批量计算\n",
    "    with torch.no_grad():\n",
    "        test_outputs = model(test_input.cpu())\n",
    "\n",
    "        test_predicted = torch.squeeze(test_outputs>=0.5).int()\n",
    "\n",
    "        accuracy = (test_predicted.cpu() == test_label.int()).sum().float() / test_label.size()[0]\n",
    "        print('识别准确率为：{}%'.format(accuracy*100))\n",
    "# for name, param in model.named_parameters():\n",
    "#     print(name, param.data)"
   ]
  }
 ],
 "metadata": {
  "kernelspec": {
   "display_name": "Python 3 (ipykernel)",
   "language": "python",
   "name": "python3"
  },
  "language_info": {
   "codemirror_mode": {
    "name": "ipython",
    "version": 3
   },
   "file_extension": ".py",
   "mimetype": "text/x-python",
   "name": "python",
   "nbconvert_exporter": "python",
   "pygments_lexer": "ipython3",
   "version": "3.10.9"
  }
 },
 "nbformat": 4,
 "nbformat_minor": 5
}
