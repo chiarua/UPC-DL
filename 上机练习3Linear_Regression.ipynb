{
 "cells": [
  {
   "cell_type": "markdown",
   "id": "49a00d79",
   "metadata": {},
   "source": [
    "# 线性回归 boston房价预测\n",
    "导入相关包"
   ]
  },
  {
   "cell_type": "code",
   "execution_count": null,
   "id": "94c8478a",
   "metadata": {},
   "outputs": [],
   "source": [
    "import torch\n",
    "import torch.nn as nn\n",
    "import torch.optim as optim\n",
    "import pandas as pd\n",
    "import numpy as np\n",
    "import matplotlib.pyplot as plt\n",
    "from sklearn.preprocessing import StandardScaler\n",
    "from sklearn.model_selection import train_test_split"
   ]
  },
  {
   "cell_type": "code",
   "execution_count": null,
   "id": "ae0045f9",
   "metadata": {},
   "outputs": [],
   "source": [
    "# 加载csv数据集\n",
    "data = pd.read_csv(\"house_data.csv\")"
   ]
  },
  {
   "cell_type": "code",
   "execution_count": null,
   "id": "09170992",
   "metadata": {},
   "outputs": [],
   "source": [
    "# 提取输入特征 (X) 和标签 (y)\n",
    "X = data.iloc[:, :-1].values\n",
    "y = data.iloc[:, -1].values.reshape(-1, 1)  # Reshape y to a column vector"
   ]
  },
  {
   "cell_type": "code",
   "execution_count": null,
   "id": "d88c878e",
   "metadata": {},
   "outputs": [],
   "source": [
    "# 标准化输入特征，查询用法及原因\n",
    "scaler = StandardScaler()\n",
    "X = scaler.fit_transform(X)\n",
    "y = scaler.fit_transform(y)"
   ]
  },
  {
   "cell_type": "code",
   "execution_count": null,
   "id": "66400581",
   "metadata": {},
   "outputs": [],
   "source": [
    "# 利用train_test_split 函数将数据集划分为训练集和测试集\n",
    "X, X_test, y, y_test = train_test_split(X, Y, random_state = 0)"
   ]
  },
  {
   "cell_type": "markdown",
   "id": "346e3523",
   "metadata": {},
   "source": [
    "将数据转换为 PyTorch 张量"
   ]
  },
  {
   "cell_type": "code",
   "execution_count": null,
   "id": "266b1be3",
   "metadata": {},
   "outputs": [],
   "source": []
  },
  {
   "cell_type": "code",
   "execution_count": null,
   "id": "d2d29ea0",
   "metadata": {},
   "outputs": [],
   "source": [
    "# 创建用于批量训练的 DataLoader\n",
    "dataset = torch.utils.data.TensorDataset(X, y)\n",
    "dataloader = torch.utils.data.DataLoader(dataset, batch_size=20, shuffle=True)"
   ]
  },
  {
   "cell_type": "markdown",
   "id": "b25d1471",
   "metadata": {},
   "source": [
    "利用pytorch封装好的nn.Module创建LinearRegression模型"
   ]
  },
  {
   "cell_type": "code",
   "execution_count": null,
   "id": "8f2eb79f",
   "metadata": {},
   "outputs": [],
   "source": [
    "# 定义一个简单的线性回归模型\n",
    "class LinearRegression(nn.Module):\n",
    "    def __init__(self, input_dim):\n",
    "        super(LinearRegression, self).__init__()\n",
    "        \"\n",
    "            定义线性回归层\n",
    "        \"\n",
    "\n",
    "    def forward(self, x):\n",
    "        \"\n",
    "            定义计算图传播\n",
    "        \""
   ]
  },
  {
   "cell_type": "code",
   "execution_count": null,
   "id": "d820594e",
   "metadata": {},
   "outputs": [],
   "source": [
    "# 初始化模型\n",
    "model = LinearRegression(input_dim=X.shape[1])\n",
    "\n",
    "# 定义损失函数和优化器\n",
    "criterion = nn.MSELoss()\n",
    "# 可以尝试多种优化方法和学习率\n",
    "optimizer = optim.SGD(model.parameters(), lr=0.0001)"
   ]
  },
  {
   "cell_type": "code",
   "execution_count": null,
   "id": "590d53a1",
   "metadata": {},
   "outputs": [],
   "source": [
    "# 训练循环\n",
    "num_epochs = 10\n",
    "iters, train_costs = [], []\n",
    "\n",
    "for epoch in range(num_epochs):\n",
    "    for batch_X, batch_y in dataloader:\n",
    "        # # 前向传播\n",
    "        \"\n",
    "            \n",
    "        \"\n",
    "        # 计算loss\n",
    "        \"\n",
    "            \n",
    "        \"\n",
    "        # 反向传播和优化：(1) 梯度归零\n",
    "        #               (2) 反向传播计算每个参数的梯度\n",
    "        #               (3) 通过梯度下降更新参数\n",
    "        \"\n",
    "            \n",
    "        \"\n",
    "               \n",
    "\n",
    "        train_costs.append(loss.item())\n",
    "\n",
    "        # 打印输出训练进度\n",
    "        if len(train_costs) % 10 == 0:\n",
    "            print(f\"Epoch [{epoch+1}/{num_epochs}], \n",
    "                  Step [{len(train_costs)}], Loss: {loss.item():.4f}\")\n"
   ]
  },
  {
   "cell_type": "markdown",
   "id": "f27a2126",
   "metadata": {},
   "source": [
    "保存模型"
   ]
  },
  {
   "cell_type": "code",
   "execution_count": null,
   "id": "cba5d53a",
   "metadata": {},
   "outputs": [],
   "source": []
  },
  {
   "cell_type": "markdown",
   "id": "290b93f9",
   "metadata": {},
   "source": [
    "打印输出模型参数w和b"
   ]
  },
  {
   "cell_type": "code",
   "execution_count": null,
   "id": "9fcf06f5",
   "metadata": {},
   "outputs": [],
   "source": []
  },
  {
   "cell_type": "code",
   "execution_count": null,
   "id": "db3fac18",
   "metadata": {},
   "outputs": [],
   "source": [
    "# 绘制训练过程\n",
    "iters = list(range(1, len(train_costs) + 1))\n",
    "plt.plot(iters, train_costs, color='red', label='training cost')\n",
    "plt.xlabel(\"Iteration\", fontsize=14)\n",
    "plt.ylabel(\"Cost\", fontsize=14)\n",
    "plt.title(\"Training Cost\", fontsize=24)\n",
    "plt.grid()\n",
    "plt.show()"
   ]
  },
  {
   "cell_type": "markdown",
   "id": "257c86ce",
   "metadata": {},
   "source": [
    "对测试集进行预测"
   ]
  },
  {
   "cell_type": "code",
   "execution_count": null,
   "id": "802654a7",
   "metadata": {},
   "outputs": [],
   "source": [
    "# 设置模型为评估模式\n"
   ]
  },
  {
   "cell_type": "code",
   "execution_count": null,
   "id": "52477af4",
   "metadata": {},
   "outputs": [],
   "source": [
    "with torch.no_grad():\n",
    "    #输出预测值predictions\n",
    "    \n",
    "    \"\n",
    "        \n",
    "    \""
   ]
  },
  {
   "cell_type": "markdown",
   "id": "4e2be8d0",
   "metadata": {},
   "source": [
    "输出测试集的loss"
   ]
  },
  {
   "cell_type": "code",
   "execution_count": null,
   "id": "e48d4913",
   "metadata": {},
   "outputs": [],
   "source": []
  },
  {
   "cell_type": "code",
   "execution_count": null,
   "id": "28bb193b",
   "metadata": {},
   "outputs": [],
   "source": [
    "# 绘制实际值 vs. 预测值\n",
    "plt.scatter(y.numpy(), predictions, color='green', label='infer result')\n",
    "plt.xlabel(\"Ground Truth\", fontsize=14)\n",
    "plt.ylabel(\"infer result\", fontsize=14)\n",
    "plt.title(\"Boston\", fontsize=24)\n",
    "plt.plot([min(y.numpy()), max(y.numpy())], [min(y.numpy()), max(y.numpy())], color='blue', linestyle='--')\n",
    "plt.grid()\n",
    "plt.show()"
   ]
  },
  {
   "cell_type": "markdown",
   "id": "06874b21",
   "metadata": {},
   "source": [
    "## 正规方程求解 $θ=(𝑋^𝑇 𝑋)^{−1} 𝑋^𝑇 𝑌$"
   ]
  },
  {
   "cell_type": "markdown",
   "id": "ee60b5b5",
   "metadata": {},
   "source": [
    "首先将x扩维，沿第二个轴，添加一列全1向量"
   ]
  },
  {
   "cell_type": "code",
   "execution_count": null,
   "id": "794bb6a3",
   "metadata": {},
   "outputs": [],
   "source": []
  },
  {
   "cell_type": "markdown",
   "id": "00b35092",
   "metadata": {},
   "source": [
    "计算w，提示函数：torch.mm(), torch.linalg.inv()   {torch框架} \n",
    "或者np.dot(),np.linalg.inv()                    {Numpy框架}"
   ]
  },
  {
   "cell_type": "code",
   "execution_count": null,
   "id": "f06fd263",
   "metadata": {},
   "outputs": [],
   "source": []
  },
  {
   "cell_type": "markdown",
   "id": "314b19cf",
   "metadata": {},
   "source": [
    "计算预测值predict"
   ]
  },
  {
   "cell_type": "code",
   "execution_count": null,
   "id": "1f4e81c4",
   "metadata": {},
   "outputs": [],
   "source": []
  },
  {
   "cell_type": "markdown",
   "id": "6a1ec16a",
   "metadata": {},
   "source": [
    "画图显示"
   ]
  },
  {
   "cell_type": "code",
   "execution_count": null,
   "id": "4759cc09",
   "metadata": {},
   "outputs": [],
   "source": [
    "plt.scatter(y.numpy(), predict, color='green', label='infer result')\n",
    "plt.xlabel(\"Ground Truth\", fontsize=14)\n",
    "plt.ylabel(\"infer result\", fontsize=14)\n",
    "plt.title(\"Boston\", fontsize=24)\n",
    "plt.plot([min(y.numpy()), max(y.numpy())], [min(y.numpy()), max(y.numpy())], color='blue', linestyle='--')\n",
    "plt.grid()\n",
    "plt.show()"
   ]
  },
  {
   "cell_type": "markdown",
   "id": "40669bf3",
   "metadata": {},
   "source": [
    "# 附加练习\n",
    "对损失函数添加L2/L1正则化项。提示：利用model.parameters() 获取参数的值，将正则化项损失加到loss上进行优化。结合正常优化代码输出优化结果及示意图。"
   ]
  },
  {
   "cell_type": "code",
   "execution_count": null,
   "id": "e7619453",
   "metadata": {},
   "outputs": [],
   "source": []
  }
 ],
 "metadata": {
  "kernelspec": {
   "display_name": "Python 3 (ipykernel)",
   "language": "python",
   "name": "python3"
  },
  "language_info": {
   "codemirror_mode": {
    "name": "ipython",
    "version": 3
   },
   "file_extension": ".py",
   "mimetype": "text/x-python",
   "name": "python",
   "nbconvert_exporter": "python",
   "pygments_lexer": "ipython3",
   "version": "3.10.9"
  }
 },
 "nbformat": 4,
 "nbformat_minor": 5
}
